{
 "cells": [
  {
   "cell_type": "code",
   "execution_count": 1,
   "metadata": {},
   "outputs": [],
   "source": [
    "import numpy as np\n",
    "import pandas as pd\n",
    "import matplotlib.pyplot as plt"
   ]
  },
  {
   "cell_type": "code",
   "execution_count": 2,
   "metadata": {},
   "outputs": [
    {
     "name": "stdout",
     "output_type": "stream",
     "text": [
      "        943 users\n",
      "0      1682 items\n",
      "1  100000 ratings\n"
     ]
    }
   ],
   "source": [
    "dataset_info = pd.read_csv('./data/ml-100k/u.info')\n",
    "print(dataset_info)"
   ]
  },
  {
   "cell_type": "code",
   "execution_count": 3,
   "metadata": {},
   "outputs": [
    {
     "data": {
      "text/html": [
       "<div>\n",
       "<style scoped>\n",
       "    .dataframe tbody tr th:only-of-type {\n",
       "        vertical-align: middle;\n",
       "    }\n",
       "\n",
       "    .dataframe tbody tr th {\n",
       "        vertical-align: top;\n",
       "    }\n",
       "\n",
       "    .dataframe thead th {\n",
       "        text-align: right;\n",
       "    }\n",
       "</style>\n",
       "<table border=\"1\" class=\"dataframe\">\n",
       "  <thead>\n",
       "    <tr style=\"text-align: right;\">\n",
       "      <th></th>\n",
       "      <th>user id</th>\n",
       "      <th>movie id</th>\n",
       "      <th>rating</th>\n",
       "      <th>timestamp</th>\n",
       "    </tr>\n",
       "  </thead>\n",
       "  <tbody>\n",
       "    <tr>\n",
       "      <th>0</th>\n",
       "      <td>196</td>\n",
       "      <td>242</td>\n",
       "      <td>3</td>\n",
       "      <td>881250949</td>\n",
       "    </tr>\n",
       "    <tr>\n",
       "      <th>1</th>\n",
       "      <td>186</td>\n",
       "      <td>302</td>\n",
       "      <td>3</td>\n",
       "      <td>891717742</td>\n",
       "    </tr>\n",
       "    <tr>\n",
       "      <th>2</th>\n",
       "      <td>22</td>\n",
       "      <td>377</td>\n",
       "      <td>1</td>\n",
       "      <td>878887116</td>\n",
       "    </tr>\n",
       "    <tr>\n",
       "      <th>3</th>\n",
       "      <td>244</td>\n",
       "      <td>51</td>\n",
       "      <td>2</td>\n",
       "      <td>880606923</td>\n",
       "    </tr>\n",
       "    <tr>\n",
       "      <th>4</th>\n",
       "      <td>166</td>\n",
       "      <td>346</td>\n",
       "      <td>1</td>\n",
       "      <td>886397596</td>\n",
       "    </tr>\n",
       "  </tbody>\n",
       "</table>\n",
       "</div>"
      ],
      "text/plain": [
       "   user id  movie id  rating  timestamp\n",
       "0      196       242       3  881250949\n",
       "1      186       302       3  891717742\n",
       "2       22       377       1  878887116\n",
       "3      244        51       2  880606923\n",
       "4      166       346       1  886397596"
      ]
     },
     "execution_count": 3,
     "metadata": {},
     "output_type": "execute_result"
    }
   ],
   "source": [
    "col_names = ['user id', 'movie id', 'rating', 'timestamp']\n",
    "ratings = pd.read_csv('./data/ml-100k/u.data', sep='\\t', names=col_names)\n",
    "ratings.head()"
   ]
  },
  {
   "cell_type": "code",
   "execution_count": 4,
   "metadata": {},
   "outputs": [
    {
     "name": "stdout",
     "output_type": "stream",
     "text": [
      "<class 'pandas.core.frame.DataFrame'>\n",
      "RangeIndex: 100000 entries, 0 to 99999\n",
      "Data columns (total 4 columns):\n",
      " #   Column     Non-Null Count   Dtype\n",
      "---  ------     --------------   -----\n",
      " 0   user id    100000 non-null  int64\n",
      " 1   movie id   100000 non-null  int64\n",
      " 2   rating     100000 non-null  int64\n",
      " 3   timestamp  100000 non-null  int64\n",
      "dtypes: int64(4)\n",
      "memory usage: 3.1 MB\n"
     ]
    }
   ],
   "source": [
    "ratings.info()"
   ]
  },
  {
   "cell_type": "code",
   "execution_count": 5,
   "metadata": {},
   "outputs": [
    {
     "data": {
      "text/html": [
       "<div>\n",
       "<style scoped>\n",
       "    .dataframe tbody tr th:only-of-type {\n",
       "        vertical-align: middle;\n",
       "    }\n",
       "\n",
       "    .dataframe tbody tr th {\n",
       "        vertical-align: top;\n",
       "    }\n",
       "\n",
       "    .dataframe thead th {\n",
       "        text-align: right;\n",
       "    }\n",
       "</style>\n",
       "<table border=\"1\" class=\"dataframe\">\n",
       "  <thead>\n",
       "    <tr style=\"text-align: right;\">\n",
       "      <th></th>\n",
       "      <th>user id</th>\n",
       "      <th>movie id</th>\n",
       "      <th>rating</th>\n",
       "      <th>timestamp</th>\n",
       "    </tr>\n",
       "  </thead>\n",
       "  <tbody>\n",
       "    <tr>\n",
       "      <th>count</th>\n",
       "      <td>100000.00000</td>\n",
       "      <td>100000.000000</td>\n",
       "      <td>100000.000000</td>\n",
       "      <td>1.000000e+05</td>\n",
       "    </tr>\n",
       "    <tr>\n",
       "      <th>mean</th>\n",
       "      <td>462.48475</td>\n",
       "      <td>425.530130</td>\n",
       "      <td>3.529860</td>\n",
       "      <td>8.835289e+08</td>\n",
       "    </tr>\n",
       "    <tr>\n",
       "      <th>std</th>\n",
       "      <td>266.61442</td>\n",
       "      <td>330.798356</td>\n",
       "      <td>1.125674</td>\n",
       "      <td>5.343856e+06</td>\n",
       "    </tr>\n",
       "    <tr>\n",
       "      <th>min</th>\n",
       "      <td>1.00000</td>\n",
       "      <td>1.000000</td>\n",
       "      <td>1.000000</td>\n",
       "      <td>8.747247e+08</td>\n",
       "    </tr>\n",
       "    <tr>\n",
       "      <th>25%</th>\n",
       "      <td>254.00000</td>\n",
       "      <td>175.000000</td>\n",
       "      <td>3.000000</td>\n",
       "      <td>8.794487e+08</td>\n",
       "    </tr>\n",
       "    <tr>\n",
       "      <th>50%</th>\n",
       "      <td>447.00000</td>\n",
       "      <td>322.000000</td>\n",
       "      <td>4.000000</td>\n",
       "      <td>8.828269e+08</td>\n",
       "    </tr>\n",
       "    <tr>\n",
       "      <th>75%</th>\n",
       "      <td>682.00000</td>\n",
       "      <td>631.000000</td>\n",
       "      <td>4.000000</td>\n",
       "      <td>8.882600e+08</td>\n",
       "    </tr>\n",
       "    <tr>\n",
       "      <th>max</th>\n",
       "      <td>943.00000</td>\n",
       "      <td>1682.000000</td>\n",
       "      <td>5.000000</td>\n",
       "      <td>8.932866e+08</td>\n",
       "    </tr>\n",
       "  </tbody>\n",
       "</table>\n",
       "</div>"
      ],
      "text/plain": [
       "            user id       movie id         rating     timestamp\n",
       "count  100000.00000  100000.000000  100000.000000  1.000000e+05\n",
       "mean      462.48475     425.530130       3.529860  8.835289e+08\n",
       "std       266.61442     330.798356       1.125674  5.343856e+06\n",
       "min         1.00000       1.000000       1.000000  8.747247e+08\n",
       "25%       254.00000     175.000000       3.000000  8.794487e+08\n",
       "50%       447.00000     322.000000       4.000000  8.828269e+08\n",
       "75%       682.00000     631.000000       4.000000  8.882600e+08\n",
       "max       943.00000    1682.000000       5.000000  8.932866e+08"
      ]
     },
     "execution_count": 5,
     "metadata": {},
     "output_type": "execute_result"
    }
   ],
   "source": [
    "ratings.describe()"
   ]
  },
  {
   "cell_type": "code",
   "execution_count": 6,
   "metadata": {},
   "outputs": [],
   "source": [
    "col_names = ['movie id', 'movie title', 'release date', 'video release date',\n",
    "              'IMDb URL', 'unknown', 'Action', 'Adventure', 'Animation',\n",
    "              'Children\\'s', 'Comedy', 'Crime', 'Documentary', 'Drama', 'Fantasy',\n",
    "              'Film-Noir', 'Horror', 'Musical', 'Mystery', 'Romance', 'Sci-Fi',\n",
    "              'Thriller', 'War', 'Western']"
   ]
  },
  {
   "cell_type": "code",
   "execution_count": 7,
   "metadata": {},
   "outputs": [
    {
     "data": {
      "text/html": [
       "<div>\n",
       "<style scoped>\n",
       "    .dataframe tbody tr th:only-of-type {\n",
       "        vertical-align: middle;\n",
       "    }\n",
       "\n",
       "    .dataframe tbody tr th {\n",
       "        vertical-align: top;\n",
       "    }\n",
       "\n",
       "    .dataframe thead th {\n",
       "        text-align: right;\n",
       "    }\n",
       "</style>\n",
       "<table border=\"1\" class=\"dataframe\">\n",
       "  <thead>\n",
       "    <tr style=\"text-align: right;\">\n",
       "      <th></th>\n",
       "      <th>movie id</th>\n",
       "      <th>movie title</th>\n",
       "      <th>release date</th>\n",
       "      <th>video release date</th>\n",
       "      <th>IMDb URL</th>\n",
       "      <th>unknown</th>\n",
       "      <th>Action</th>\n",
       "      <th>Adventure</th>\n",
       "      <th>Animation</th>\n",
       "      <th>Children's</th>\n",
       "      <th>...</th>\n",
       "      <th>Fantasy</th>\n",
       "      <th>Film-Noir</th>\n",
       "      <th>Horror</th>\n",
       "      <th>Musical</th>\n",
       "      <th>Mystery</th>\n",
       "      <th>Romance</th>\n",
       "      <th>Sci-Fi</th>\n",
       "      <th>Thriller</th>\n",
       "      <th>War</th>\n",
       "      <th>Western</th>\n",
       "    </tr>\n",
       "  </thead>\n",
       "  <tbody>\n",
       "    <tr>\n",
       "      <th>0</th>\n",
       "      <td>1</td>\n",
       "      <td>Toy Story (1995)</td>\n",
       "      <td>01-Jan-1995</td>\n",
       "      <td>NaN</td>\n",
       "      <td>http://us.imdb.com/M/title-exact?Toy%20Story%2...</td>\n",
       "      <td>0</td>\n",
       "      <td>0</td>\n",
       "      <td>0</td>\n",
       "      <td>1</td>\n",
       "      <td>1</td>\n",
       "      <td>...</td>\n",
       "      <td>0</td>\n",
       "      <td>0</td>\n",
       "      <td>0</td>\n",
       "      <td>0</td>\n",
       "      <td>0</td>\n",
       "      <td>0</td>\n",
       "      <td>0</td>\n",
       "      <td>0</td>\n",
       "      <td>0</td>\n",
       "      <td>0</td>\n",
       "    </tr>\n",
       "    <tr>\n",
       "      <th>1</th>\n",
       "      <td>2</td>\n",
       "      <td>GoldenEye (1995)</td>\n",
       "      <td>01-Jan-1995</td>\n",
       "      <td>NaN</td>\n",
       "      <td>http://us.imdb.com/M/title-exact?GoldenEye%20(...</td>\n",
       "      <td>0</td>\n",
       "      <td>1</td>\n",
       "      <td>1</td>\n",
       "      <td>0</td>\n",
       "      <td>0</td>\n",
       "      <td>...</td>\n",
       "      <td>0</td>\n",
       "      <td>0</td>\n",
       "      <td>0</td>\n",
       "      <td>0</td>\n",
       "      <td>0</td>\n",
       "      <td>0</td>\n",
       "      <td>0</td>\n",
       "      <td>1</td>\n",
       "      <td>0</td>\n",
       "      <td>0</td>\n",
       "    </tr>\n",
       "    <tr>\n",
       "      <th>2</th>\n",
       "      <td>3</td>\n",
       "      <td>Four Rooms (1995)</td>\n",
       "      <td>01-Jan-1995</td>\n",
       "      <td>NaN</td>\n",
       "      <td>http://us.imdb.com/M/title-exact?Four%20Rooms%...</td>\n",
       "      <td>0</td>\n",
       "      <td>0</td>\n",
       "      <td>0</td>\n",
       "      <td>0</td>\n",
       "      <td>0</td>\n",
       "      <td>...</td>\n",
       "      <td>0</td>\n",
       "      <td>0</td>\n",
       "      <td>0</td>\n",
       "      <td>0</td>\n",
       "      <td>0</td>\n",
       "      <td>0</td>\n",
       "      <td>0</td>\n",
       "      <td>1</td>\n",
       "      <td>0</td>\n",
       "      <td>0</td>\n",
       "    </tr>\n",
       "    <tr>\n",
       "      <th>3</th>\n",
       "      <td>4</td>\n",
       "      <td>Get Shorty (1995)</td>\n",
       "      <td>01-Jan-1995</td>\n",
       "      <td>NaN</td>\n",
       "      <td>http://us.imdb.com/M/title-exact?Get%20Shorty%...</td>\n",
       "      <td>0</td>\n",
       "      <td>1</td>\n",
       "      <td>0</td>\n",
       "      <td>0</td>\n",
       "      <td>0</td>\n",
       "      <td>...</td>\n",
       "      <td>0</td>\n",
       "      <td>0</td>\n",
       "      <td>0</td>\n",
       "      <td>0</td>\n",
       "      <td>0</td>\n",
       "      <td>0</td>\n",
       "      <td>0</td>\n",
       "      <td>0</td>\n",
       "      <td>0</td>\n",
       "      <td>0</td>\n",
       "    </tr>\n",
       "    <tr>\n",
       "      <th>4</th>\n",
       "      <td>5</td>\n",
       "      <td>Copycat (1995)</td>\n",
       "      <td>01-Jan-1995</td>\n",
       "      <td>NaN</td>\n",
       "      <td>http://us.imdb.com/M/title-exact?Copycat%20(1995)</td>\n",
       "      <td>0</td>\n",
       "      <td>0</td>\n",
       "      <td>0</td>\n",
       "      <td>0</td>\n",
       "      <td>0</td>\n",
       "      <td>...</td>\n",
       "      <td>0</td>\n",
       "      <td>0</td>\n",
       "      <td>0</td>\n",
       "      <td>0</td>\n",
       "      <td>0</td>\n",
       "      <td>0</td>\n",
       "      <td>0</td>\n",
       "      <td>1</td>\n",
       "      <td>0</td>\n",
       "      <td>0</td>\n",
       "    </tr>\n",
       "  </tbody>\n",
       "</table>\n",
       "<p>5 rows × 24 columns</p>\n",
       "</div>"
      ],
      "text/plain": [
       "   movie id        movie title release date  video release date  \\\n",
       "0         1   Toy Story (1995)  01-Jan-1995                 NaN   \n",
       "1         2   GoldenEye (1995)  01-Jan-1995                 NaN   \n",
       "2         3  Four Rooms (1995)  01-Jan-1995                 NaN   \n",
       "3         4  Get Shorty (1995)  01-Jan-1995                 NaN   \n",
       "4         5     Copycat (1995)  01-Jan-1995                 NaN   \n",
       "\n",
       "                                            IMDb URL  unknown  Action  \\\n",
       "0  http://us.imdb.com/M/title-exact?Toy%20Story%2...        0       0   \n",
       "1  http://us.imdb.com/M/title-exact?GoldenEye%20(...        0       1   \n",
       "2  http://us.imdb.com/M/title-exact?Four%20Rooms%...        0       0   \n",
       "3  http://us.imdb.com/M/title-exact?Get%20Shorty%...        0       1   \n",
       "4  http://us.imdb.com/M/title-exact?Copycat%20(1995)        0       0   \n",
       "\n",
       "   Adventure  Animation  Children's  ...  Fantasy  Film-Noir  Horror  Musical  \\\n",
       "0          0          1           1  ...        0          0       0        0   \n",
       "1          1          0           0  ...        0          0       0        0   \n",
       "2          0          0           0  ...        0          0       0        0   \n",
       "3          0          0           0  ...        0          0       0        0   \n",
       "4          0          0           0  ...        0          0       0        0   \n",
       "\n",
       "   Mystery  Romance  Sci-Fi  Thriller  War  Western  \n",
       "0        0        0       0         0    0        0  \n",
       "1        0        0       0         1    0        0  \n",
       "2        0        0       0         1    0        0  \n",
       "3        0        0       0         0    0        0  \n",
       "4        0        0       0         1    0        0  \n",
       "\n",
       "[5 rows x 24 columns]"
      ]
     },
     "execution_count": 7,
     "metadata": {},
     "output_type": "execute_result"
    }
   ],
   "source": [
    "items = pd.read_csv('./data/ml-100k/u.item', sep='|', names=col_names, encoding='latin-1')\n",
    "items.head()"
   ]
  },
  {
   "cell_type": "code",
   "execution_count": 8,
   "metadata": {},
   "outputs": [
    {
     "name": "stdout",
     "output_type": "stream",
     "text": [
      "<class 'pandas.core.frame.DataFrame'>\n",
      "RangeIndex: 1682 entries, 0 to 1681\n",
      "Data columns (total 24 columns):\n",
      " #   Column              Non-Null Count  Dtype  \n",
      "---  ------              --------------  -----  \n",
      " 0   movie id            1682 non-null   int64  \n",
      " 1   movie title         1682 non-null   object \n",
      " 2   release date        1681 non-null   object \n",
      " 3   video release date  0 non-null      float64\n",
      " 4   IMDb URL            1679 non-null   object \n",
      " 5   unknown             1682 non-null   int64  \n",
      " 6   Action              1682 non-null   int64  \n",
      " 7   Adventure           1682 non-null   int64  \n",
      " 8   Animation           1682 non-null   int64  \n",
      " 9   Children's          1682 non-null   int64  \n",
      " 10  Comedy              1682 non-null   int64  \n",
      " 11  Crime               1682 non-null   int64  \n",
      " 12  Documentary         1682 non-null   int64  \n",
      " 13  Drama               1682 non-null   int64  \n",
      " 14  Fantasy             1682 non-null   int64  \n",
      " 15  Film-Noir           1682 non-null   int64  \n",
      " 16  Horror              1682 non-null   int64  \n",
      " 17  Musical             1682 non-null   int64  \n",
      " 18  Mystery             1682 non-null   int64  \n",
      " 19  Romance             1682 non-null   int64  \n",
      " 20  Sci-Fi              1682 non-null   int64  \n",
      " 21  Thriller            1682 non-null   int64  \n",
      " 22  War                 1682 non-null   int64  \n",
      " 23  Western             1682 non-null   int64  \n",
      "dtypes: float64(1), int64(20), object(3)\n",
      "memory usage: 315.5+ KB\n"
     ]
    }
   ],
   "source": [
    "items.info()"
   ]
  },
  {
   "cell_type": "code",
   "execution_count": 9,
   "metadata": {},
   "outputs": [
    {
     "data": {
      "text/html": [
       "<div>\n",
       "<style scoped>\n",
       "    .dataframe tbody tr th:only-of-type {\n",
       "        vertical-align: middle;\n",
       "    }\n",
       "\n",
       "    .dataframe tbody tr th {\n",
       "        vertical-align: top;\n",
       "    }\n",
       "\n",
       "    .dataframe thead th {\n",
       "        text-align: right;\n",
       "    }\n",
       "</style>\n",
       "<table border=\"1\" class=\"dataframe\">\n",
       "  <thead>\n",
       "    <tr style=\"text-align: right;\">\n",
       "      <th></th>\n",
       "      <th>movie id</th>\n",
       "      <th>movie title</th>\n",
       "    </tr>\n",
       "  </thead>\n",
       "  <tbody>\n",
       "    <tr>\n",
       "      <th>0</th>\n",
       "      <td>1</td>\n",
       "      <td>Toy Story (1995)</td>\n",
       "    </tr>\n",
       "    <tr>\n",
       "      <th>1</th>\n",
       "      <td>2</td>\n",
       "      <td>GoldenEye (1995)</td>\n",
       "    </tr>\n",
       "    <tr>\n",
       "      <th>2</th>\n",
       "      <td>3</td>\n",
       "      <td>Four Rooms (1995)</td>\n",
       "    </tr>\n",
       "    <tr>\n",
       "      <th>3</th>\n",
       "      <td>4</td>\n",
       "      <td>Get Shorty (1995)</td>\n",
       "    </tr>\n",
       "    <tr>\n",
       "      <th>4</th>\n",
       "      <td>5</td>\n",
       "      <td>Copycat (1995)</td>\n",
       "    </tr>\n",
       "  </tbody>\n",
       "</table>\n",
       "</div>"
      ],
      "text/plain": [
       "   movie id        movie title\n",
       "0         1   Toy Story (1995)\n",
       "1         2   GoldenEye (1995)\n",
       "2         3  Four Rooms (1995)\n",
       "3         4  Get Shorty (1995)\n",
       "4         5     Copycat (1995)"
      ]
     },
     "execution_count": 9,
     "metadata": {},
     "output_type": "execute_result"
    }
   ],
   "source": [
    "movies = items[['movie id', 'movie title']]\n",
    "movies.head()"
   ]
  },
  {
   "cell_type": "code",
   "execution_count": 10,
   "metadata": {},
   "outputs": [
    {
     "data": {
      "text/html": [
       "<div>\n",
       "<style scoped>\n",
       "    .dataframe tbody tr th:only-of-type {\n",
       "        vertical-align: middle;\n",
       "    }\n",
       "\n",
       "    .dataframe tbody tr th {\n",
       "        vertical-align: top;\n",
       "    }\n",
       "\n",
       "    .dataframe thead th {\n",
       "        text-align: right;\n",
       "    }\n",
       "</style>\n",
       "<table border=\"1\" class=\"dataframe\">\n",
       "  <thead>\n",
       "    <tr style=\"text-align: right;\">\n",
       "      <th></th>\n",
       "      <th>user id</th>\n",
       "      <th>movie id</th>\n",
       "      <th>rating</th>\n",
       "      <th>timestamp</th>\n",
       "      <th>movie title</th>\n",
       "    </tr>\n",
       "  </thead>\n",
       "  <tbody>\n",
       "    <tr>\n",
       "      <th>0</th>\n",
       "      <td>196</td>\n",
       "      <td>242</td>\n",
       "      <td>3</td>\n",
       "      <td>881250949</td>\n",
       "      <td>Kolya (1996)</td>\n",
       "    </tr>\n",
       "    <tr>\n",
       "      <th>1</th>\n",
       "      <td>63</td>\n",
       "      <td>242</td>\n",
       "      <td>3</td>\n",
       "      <td>875747190</td>\n",
       "      <td>Kolya (1996)</td>\n",
       "    </tr>\n",
       "    <tr>\n",
       "      <th>2</th>\n",
       "      <td>226</td>\n",
       "      <td>242</td>\n",
       "      <td>5</td>\n",
       "      <td>883888671</td>\n",
       "      <td>Kolya (1996)</td>\n",
       "    </tr>\n",
       "    <tr>\n",
       "      <th>3</th>\n",
       "      <td>154</td>\n",
       "      <td>242</td>\n",
       "      <td>3</td>\n",
       "      <td>879138235</td>\n",
       "      <td>Kolya (1996)</td>\n",
       "    </tr>\n",
       "    <tr>\n",
       "      <th>4</th>\n",
       "      <td>306</td>\n",
       "      <td>242</td>\n",
       "      <td>5</td>\n",
       "      <td>876503793</td>\n",
       "      <td>Kolya (1996)</td>\n",
       "    </tr>\n",
       "  </tbody>\n",
       "</table>\n",
       "</div>"
      ],
      "text/plain": [
       "   user id  movie id  rating  timestamp   movie title\n",
       "0      196       242       3  881250949  Kolya (1996)\n",
       "1       63       242       3  875747190  Kolya (1996)\n",
       "2      226       242       5  883888671  Kolya (1996)\n",
       "3      154       242       3  879138235  Kolya (1996)\n",
       "4      306       242       5  876503793  Kolya (1996)"
      ]
     },
     "execution_count": 10,
     "metadata": {},
     "output_type": "execute_result"
    }
   ],
   "source": [
    "dataset = pd.merge(ratings, movies, how='inner', on='movie id')\n",
    "dataset.head()"
   ]
  },
  {
   "cell_type": "code",
   "execution_count": 11,
   "metadata": {},
   "outputs": [
    {
     "data": {
      "text/plain": [
       "movie title\n",
       "'Til There Was You (1997)    2.333333\n",
       "1-900 (1994)                 2.600000\n",
       "101 Dalmatians (1996)        2.908257\n",
       "12 Angry Men (1957)          4.344000\n",
       "187 (1997)                   3.024390\n",
       "Name: rating, dtype: float64"
      ]
     },
     "execution_count": 11,
     "metadata": {},
     "output_type": "execute_result"
    }
   ],
   "source": [
    "average_movies_ratings = dataset.groupby(['movie title']).mean()['rating']\n",
    "average_movies_ratings.head()"
   ]
  },
  {
   "cell_type": "code",
   "execution_count": 12,
   "metadata": {},
   "outputs": [
    {
     "data": {
      "text/html": [
       "<div>\n",
       "<style scoped>\n",
       "    .dataframe tbody tr th:only-of-type {\n",
       "        vertical-align: middle;\n",
       "    }\n",
       "\n",
       "    .dataframe tbody tr th {\n",
       "        vertical-align: top;\n",
       "    }\n",
       "\n",
       "    .dataframe thead th {\n",
       "        text-align: right;\n",
       "    }\n",
       "</style>\n",
       "<table border=\"1\" class=\"dataframe\">\n",
       "  <thead>\n",
       "    <tr style=\"text-align: right;\">\n",
       "      <th></th>\n",
       "      <th>rating</th>\n",
       "    </tr>\n",
       "    <tr>\n",
       "      <th>movie title</th>\n",
       "      <th></th>\n",
       "    </tr>\n",
       "  </thead>\n",
       "  <tbody>\n",
       "    <tr>\n",
       "      <th>They Made Me a Criminal (1939)</th>\n",
       "      <td>5.0</td>\n",
       "    </tr>\n",
       "    <tr>\n",
       "      <th>Marlene Dietrich: Shadow and Light (1996)</th>\n",
       "      <td>5.0</td>\n",
       "    </tr>\n",
       "    <tr>\n",
       "      <th>Saint of Fort Washington, The (1993)</th>\n",
       "      <td>5.0</td>\n",
       "    </tr>\n",
       "    <tr>\n",
       "      <th>Someone Else's America (1995)</th>\n",
       "      <td>5.0</td>\n",
       "    </tr>\n",
       "    <tr>\n",
       "      <th>Star Kid (1997)</th>\n",
       "      <td>5.0</td>\n",
       "    </tr>\n",
       "  </tbody>\n",
       "</table>\n",
       "</div>"
      ],
      "text/plain": [
       "                                            rating\n",
       "movie title                                       \n",
       "They Made Me a Criminal (1939)                 5.0\n",
       "Marlene Dietrich: Shadow and Light (1996)      5.0\n",
       "Saint of Fort Washington, The (1993)           5.0\n",
       "Someone Else's America (1995)                  5.0\n",
       "Star Kid (1997)                                5.0"
      ]
     },
     "execution_count": 12,
     "metadata": {},
     "output_type": "execute_result"
    }
   ],
   "source": [
    "average_movies_ratings = average_movies_ratings.sort_values(ascending=False)\n",
    "average_movies_ratings = average_movies_ratings.to_frame()\n",
    "average_movies_ratings.head(5)\n"
   ]
  },
  {
   "cell_type": "code",
   "execution_count": 13,
   "metadata": {},
   "outputs": [],
   "source": [
    "star_on_5_average = len(average_movies_ratings[average_movies_ratings['rating'] == 5.0])\n",
    "star_on_4_to_5_average = len(average_movies_ratings[(average_movies_ratings['rating'] >= 3.0) & \n",
    "                                                (average_movies_ratings['rating'] < 4.0)])\n",
    "star_on_3_to_4_average = len(average_movies_ratings[(average_movies_ratings['rating'] >= 3.0) & \n",
    "                                                (average_movies_ratings['rating'] < 4.0)])\n",
    "star_on_2_to_3_average = len(average_movies_ratings[(average_movies_ratings['rating'] >= 2.0 ) & \n",
    "                                                (average_movies_ratings['rating'] < 3.0)])\n",
    "star_on_1_to_2_average = len(average_movies_ratings[(average_movies_ratings['rating'] >= 1.0) & \n",
    "                                                (average_movies_ratings['rating'] < 2)])\n"
   ]
  },
  {
   "cell_type": "code",
   "execution_count": 14,
   "metadata": {},
   "outputs": [
    {
     "data": {
      "text/plain": [
       "<matplotlib.legend.Legend at 0x214ae9c5250>"
      ]
     },
     "execution_count": 14,
     "metadata": {},
     "output_type": "execute_result"
    },
    {
     "data": {
      "image/png": "[encoded data removed]",
      "text/plain": [
       "<Figure size 432x288 with 1 Axes>"
      ]
     },
     "metadata": {},
     "output_type": "display_data"
    }
   ],
   "source": [
    "labels = ['5 star', '4 to 5 star', '3 to 4 star', '2 to 3 star', '1 to 2 star']\n",
    "nums = [star_on_5_average, star_on_4_to_5_average, star_on_3_to_4_average, star_on_2_to_3_average, star_on_1_to_2_average]\n",
    "\n",
    "fig, ax = plt.subplots()\n",
    "fig.set_facecolor('lightgrey')\n",
    "\n",
    "explode = (2, 0, 0, 0, 1.3)\n",
    "\n",
    "patches, texts, auto = ax.pie(nums, shadow=True, startangle=90, explode=explode, autopct='%.1f%%')\n",
    "plt.legend(patches, labels, loc=\"best\")\n"
   ]
  },
  {
   "cell_type": "code",
   "execution_count": 15,
   "metadata": {},
   "outputs": [
    {
     "name": "stdout",
     "output_type": "stream",
     "text": [
      "Film suggestion to new user based on highest average ratings: \n"
     ]
    },
    {
     "data": {
      "text/html": [
       "<div>\n",
       "<style scoped>\n",
       "    .dataframe tbody tr th:only-of-type {\n",
       "        vertical-align: middle;\n",
       "    }\n",
       "\n",
       "    .dataframe tbody tr th {\n",
       "        vertical-align: top;\n",
       "    }\n",
       "\n",
       "    .dataframe thead th {\n",
       "        text-align: right;\n",
       "    }\n",
       "</style>\n",
       "<table border=\"1\" class=\"dataframe\">\n",
       "  <thead>\n",
       "    <tr style=\"text-align: right;\">\n",
       "      <th></th>\n",
       "      <th>rating</th>\n",
       "    </tr>\n",
       "    <tr>\n",
       "      <th>movie title</th>\n",
       "      <th></th>\n",
       "    </tr>\n",
       "  </thead>\n",
       "  <tbody>\n",
       "    <tr>\n",
       "      <th>They Made Me a Criminal (1939)</th>\n",
       "      <td>5.0</td>\n",
       "    </tr>\n",
       "    <tr>\n",
       "      <th>Marlene Dietrich: Shadow and Light (1996)</th>\n",
       "      <td>5.0</td>\n",
       "    </tr>\n",
       "    <tr>\n",
       "      <th>Saint of Fort Washington, The (1993)</th>\n",
       "      <td>5.0</td>\n",
       "    </tr>\n",
       "    <tr>\n",
       "      <th>Someone Else's America (1995)</th>\n",
       "      <td>5.0</td>\n",
       "    </tr>\n",
       "    <tr>\n",
       "      <th>Star Kid (1997)</th>\n",
       "      <td>5.0</td>\n",
       "    </tr>\n",
       "    <tr>\n",
       "      <th>Great Day in Harlem, A (1994)</th>\n",
       "      <td>5.0</td>\n",
       "    </tr>\n",
       "    <tr>\n",
       "      <th>Aiqing wansui (1994)</th>\n",
       "      <td>5.0</td>\n",
       "    </tr>\n",
       "    <tr>\n",
       "      <th>Santa with Muscles (1996)</th>\n",
       "      <td>5.0</td>\n",
       "    </tr>\n",
       "    <tr>\n",
       "      <th>Prefontaine (1997)</th>\n",
       "      <td>5.0</td>\n",
       "    </tr>\n",
       "    <tr>\n",
       "      <th>Entertaining Angels: The Dorothy Day Story (1996)</th>\n",
       "      <td>5.0</td>\n",
       "    </tr>\n",
       "  </tbody>\n",
       "</table>\n",
       "</div>"
      ],
      "text/plain": [
       "                                                   rating\n",
       "movie title                                              \n",
       "They Made Me a Criminal (1939)                        5.0\n",
       "Marlene Dietrich: Shadow and Light (1996)             5.0\n",
       "Saint of Fort Washington, The (1993)                  5.0\n",
       "Someone Else's America (1995)                         5.0\n",
       "Star Kid (1997)                                       5.0\n",
       "Great Day in Harlem, A (1994)                         5.0\n",
       "Aiqing wansui (1994)                                  5.0\n",
       "Santa with Muscles (1996)                             5.0\n",
       "Prefontaine (1997)                                    5.0\n",
       "Entertaining Angels: The Dorothy Day Story (1996)     5.0"
      ]
     },
     "execution_count": 15,
     "metadata": {},
     "output_type": "execute_result"
    }
   ],
   "source": [
    "average_highest_movies_ratings = average_movies_ratings[average_movies_ratings['rating'] == 5.0]\n",
    "print(\"Film suggestion to new user based on highest average ratings: \")\n",
    "average_highest_movies_ratings"
   ]
  },
  {
   "cell_type": "code",
   "execution_count": 16,
   "metadata": {},
   "outputs": [
    {
     "data": {
      "text/plain": [
       "movie title\n",
       "'Til There Was You (1997)      9\n",
       "1-900 (1994)                   5\n",
       "101 Dalmatians (1996)        109\n",
       "12 Angry Men (1957)          125\n",
       "187 (1997)                    41\n",
       "Name: rating, dtype: int64"
      ]
     },
     "execution_count": 16,
     "metadata": {},
     "output_type": "execute_result"
    }
   ],
   "source": [
    "movies_views = dataset.groupby(['movie title']).count()['rating']\n",
    "movies_views.head()"
   ]
  },
  {
   "cell_type": "code",
   "execution_count": 17,
   "metadata": {},
   "outputs": [
    {
     "data": {
      "text/html": [
       "<div>\n",
       "<style scoped>\n",
       "    .dataframe tbody tr th:only-of-type {\n",
       "        vertical-align: middle;\n",
       "    }\n",
       "\n",
       "    .dataframe tbody tr th {\n",
       "        vertical-align: top;\n",
       "    }\n",
       "\n",
       "    .dataframe thead th {\n",
       "        text-align: right;\n",
       "    }\n",
       "</style>\n",
       "<table border=\"1\" class=\"dataframe\">\n",
       "  <thead>\n",
       "    <tr style=\"text-align: right;\">\n",
       "      <th></th>\n",
       "      <th>movie title</th>\n",
       "      <th>Number of views</th>\n",
       "    </tr>\n",
       "  </thead>\n",
       "  <tbody>\n",
       "    <tr>\n",
       "      <th>0</th>\n",
       "      <td>Star Wars (1977)</td>\n",
       "      <td>583</td>\n",
       "    </tr>\n",
       "    <tr>\n",
       "      <th>1</th>\n",
       "      <td>Contact (1997)</td>\n",
       "      <td>509</td>\n",
       "    </tr>\n",
       "    <tr>\n",
       "      <th>2</th>\n",
       "      <td>Fargo (1996)</td>\n",
       "      <td>508</td>\n",
       "    </tr>\n",
       "    <tr>\n",
       "      <th>3</th>\n",
       "      <td>Return of the Jedi (1983)</td>\n",
       "      <td>507</td>\n",
       "    </tr>\n",
       "    <tr>\n",
       "      <th>4</th>\n",
       "      <td>Liar Liar (1997)</td>\n",
       "      <td>485</td>\n",
       "    </tr>\n",
       "  </tbody>\n",
       "</table>\n",
       "</div>"
      ],
      "text/plain": [
       "                 movie title  Number of views\n",
       "0           Star Wars (1977)              583\n",
       "1             Contact (1997)              509\n",
       "2               Fargo (1996)              508\n",
       "3  Return of the Jedi (1983)              507\n",
       "4           Liar Liar (1997)              485"
      ]
     },
     "execution_count": 17,
     "metadata": {},
     "output_type": "execute_result"
    }
   ],
   "source": [
    "movies_views = movies_views.sort_values(ascending=False)\n",
    "movies_views = movies_views.to_frame()\n",
    "movies_views.reset_index(level=0, inplace=True)\n",
    "movies_views.columns = ['movie title', 'Number of views']\n",
    "movies_views.head()"
   ]
  },
  {
   "cell_type": "code",
   "execution_count": 18,
   "metadata": {},
   "outputs": [],
   "source": [
    "views_above_500 = len(movies_views[movies_views['Number of views'] >= 500])\n",
    "views_from_400_to_500 = len(movies_views[(movies_views['Number of views'] >= 400) & \n",
    "                                                (movies_views['Number of views'] < 500)])\n",
    "views_from_300_to_400 = len(movies_views[(movies_views['Number of views'] >= 300) & \n",
    "                                                (movies_views['Number of views'] < 400)])\n",
    "views_from_200_to_300 = len(movies_views[(movies_views['Number of views'] >= 200) & \n",
    "                                                (movies_views['Number of views'] < 300)])\n",
    "views_from_100_to_200 = len(movies_views[(movies_views['Number of views'] >= 100) & \n",
    "                                                (movies_views['Number of views'] < 200)])"
   ]
  },
  {
   "cell_type": "code",
   "execution_count": 19,
   "metadata": {},
   "outputs": [
    {
     "data": {
      "text/plain": [
       "<matplotlib.legend.Legend at 0x214aead9760>"
      ]
     },
     "execution_count": 19,
     "metadata": {},
     "output_type": "execute_result"
    },
    {
     "data": {
      "image/png": "[encoded data removed]",
      "text/plain": [
       "<Figure size 432x288 with 1 Axes>"
      ]
     },
     "metadata": {},
     "output_type": "display_data"
    }
   ],
   "source": [
    "labels = ['Above 500 viewers', '400 to 500 viewers', '300 to 400 viewers', '200 to 300 viewers', '100 to 200 viewers']\n",
    "nums =  [views_above_500, views_from_400_to_500, views_from_300_to_400, views_from_200_to_300, views_from_100_to_200]\n",
    "fig, ax = plt.subplots()\n",
    "\n",
    "fig.set_facecolor('lightgrey')\n",
    "explode = (2, 1.5, 0.8, 0, 0)\n",
    "\n",
    "patches, texts, auto = ax.pie(nums, shadow=True, startangle=90, explode=explode, autopct='%.1f%%')\n",
    "plt.legend(patches, labels)\n"
   ]
  },
  {
   "cell_type": "code",
   "execution_count": 20,
   "metadata": {},
   "outputs": [
    {
     "name": "stdout",
     "output_type": "stream",
     "text": [
      "Film suggestion to new user based on top views: \n"
     ]
    },
    {
     "data": {
      "text/html": [
       "<div>\n",
       "<style scoped>\n",
       "    .dataframe tbody tr th:only-of-type {\n",
       "        vertical-align: middle;\n",
       "    }\n",
       "\n",
       "    .dataframe tbody tr th {\n",
       "        vertical-align: top;\n",
       "    }\n",
       "\n",
       "    .dataframe thead th {\n",
       "        text-align: right;\n",
       "    }\n",
       "</style>\n",
       "<table border=\"1\" class=\"dataframe\">\n",
       "  <thead>\n",
       "    <tr style=\"text-align: right;\">\n",
       "      <th></th>\n",
       "      <th>movie title</th>\n",
       "      <th>Number of views</th>\n",
       "    </tr>\n",
       "  </thead>\n",
       "  <tbody>\n",
       "    <tr>\n",
       "      <th>0</th>\n",
       "      <td>Star Wars (1977)</td>\n",
       "      <td>583</td>\n",
       "    </tr>\n",
       "    <tr>\n",
       "      <th>1</th>\n",
       "      <td>Contact (1997)</td>\n",
       "      <td>509</td>\n",
       "    </tr>\n",
       "    <tr>\n",
       "      <th>2</th>\n",
       "      <td>Fargo (1996)</td>\n",
       "      <td>508</td>\n",
       "    </tr>\n",
       "    <tr>\n",
       "      <th>3</th>\n",
       "      <td>Return of the Jedi (1983)</td>\n",
       "      <td>507</td>\n",
       "    </tr>\n",
       "    <tr>\n",
       "      <th>4</th>\n",
       "      <td>Liar Liar (1997)</td>\n",
       "      <td>485</td>\n",
       "    </tr>\n",
       "    <tr>\n",
       "      <th>5</th>\n",
       "      <td>English Patient, The (1996)</td>\n",
       "      <td>481</td>\n",
       "    </tr>\n",
       "    <tr>\n",
       "      <th>6</th>\n",
       "      <td>Scream (1996)</td>\n",
       "      <td>478</td>\n",
       "    </tr>\n",
       "    <tr>\n",
       "      <th>7</th>\n",
       "      <td>Toy Story (1995)</td>\n",
       "      <td>452</td>\n",
       "    </tr>\n",
       "    <tr>\n",
       "      <th>8</th>\n",
       "      <td>Air Force One (1997)</td>\n",
       "      <td>431</td>\n",
       "    </tr>\n",
       "    <tr>\n",
       "      <th>9</th>\n",
       "      <td>Independence Day (ID4) (1996)</td>\n",
       "      <td>429</td>\n",
       "    </tr>\n",
       "    <tr>\n",
       "      <th>10</th>\n",
       "      <td>Raiders of the Lost Ark (1981)</td>\n",
       "      <td>420</td>\n",
       "    </tr>\n",
       "    <tr>\n",
       "      <th>11</th>\n",
       "      <td>Godfather, The (1972)</td>\n",
       "      <td>413</td>\n",
       "    </tr>\n",
       "    <tr>\n",
       "      <th>12</th>\n",
       "      <td>Pulp Fiction (1994)</td>\n",
       "      <td>394</td>\n",
       "    </tr>\n",
       "    <tr>\n",
       "      <th>13</th>\n",
       "      <td>Twelve Monkeys (1995)</td>\n",
       "      <td>392</td>\n",
       "    </tr>\n",
       "    <tr>\n",
       "      <th>14</th>\n",
       "      <td>Silence of the Lambs, The (1991)</td>\n",
       "      <td>390</td>\n",
       "    </tr>\n",
       "    <tr>\n",
       "      <th>15</th>\n",
       "      <td>Jerry Maguire (1996)</td>\n",
       "      <td>384</td>\n",
       "    </tr>\n",
       "    <tr>\n",
       "      <th>16</th>\n",
       "      <td>Chasing Amy (1997)</td>\n",
       "      <td>379</td>\n",
       "    </tr>\n",
       "    <tr>\n",
       "      <th>17</th>\n",
       "      <td>Rock, The (1996)</td>\n",
       "      <td>378</td>\n",
       "    </tr>\n",
       "    <tr>\n",
       "      <th>18</th>\n",
       "      <td>Empire Strikes Back, The (1980)</td>\n",
       "      <td>367</td>\n",
       "    </tr>\n",
       "    <tr>\n",
       "      <th>19</th>\n",
       "      <td>Star Trek: First Contact (1996)</td>\n",
       "      <td>365</td>\n",
       "    </tr>\n",
       "    <tr>\n",
       "      <th>20</th>\n",
       "      <td>Titanic (1997)</td>\n",
       "      <td>350</td>\n",
       "    </tr>\n",
       "    <tr>\n",
       "      <th>21</th>\n",
       "      <td>Back to the Future (1985)</td>\n",
       "      <td>350</td>\n",
       "    </tr>\n",
       "  </tbody>\n",
       "</table>\n",
       "</div>"
      ],
      "text/plain": [
       "                         movie title  Number of views\n",
       "0                   Star Wars (1977)              583\n",
       "1                     Contact (1997)              509\n",
       "2                       Fargo (1996)              508\n",
       "3          Return of the Jedi (1983)              507\n",
       "4                   Liar Liar (1997)              485\n",
       "5        English Patient, The (1996)              481\n",
       "6                      Scream (1996)              478\n",
       "7                   Toy Story (1995)              452\n",
       "8               Air Force One (1997)              431\n",
       "9      Independence Day (ID4) (1996)              429\n",
       "10    Raiders of the Lost Ark (1981)              420\n",
       "11             Godfather, The (1972)              413\n",
       "12               Pulp Fiction (1994)              394\n",
       "13             Twelve Monkeys (1995)              392\n",
       "14  Silence of the Lambs, The (1991)              390\n",
       "15              Jerry Maguire (1996)              384\n",
       "16                Chasing Amy (1997)              379\n",
       "17                  Rock, The (1996)              378\n",
       "18   Empire Strikes Back, The (1980)              367\n",
       "19   Star Trek: First Contact (1996)              365\n",
       "20                    Titanic (1997)              350\n",
       "21         Back to the Future (1985)              350"
      ]
     },
     "execution_count": 20,
     "metadata": {},
     "output_type": "execute_result"
    }
   ],
   "source": [
    "highest_movies_views = movies_views[movies_views['Number of views'] >= 350]\n",
    "print(\"Film suggestion to new user based on top views: \")\n",
    "highest_movies_views"
   ]
  },
  {
   "cell_type": "code",
   "execution_count": 21,
   "metadata": {},
   "outputs": [
    {
     "data": {
      "text/html": [
       "<div>\n",
       "<style scoped>\n",
       "    .dataframe tbody tr th:only-of-type {\n",
       "        vertical-align: middle;\n",
       "    }\n",
       "\n",
       "    .dataframe tbody tr th {\n",
       "        vertical-align: top;\n",
       "    }\n",
       "\n",
       "    .dataframe thead th {\n",
       "        text-align: right;\n",
       "    }\n",
       "</style>\n",
       "<table border=\"1\" class=\"dataframe\">\n",
       "  <thead>\n",
       "    <tr style=\"text-align: right;\">\n",
       "      <th></th>\n",
       "      <th>movie title</th>\n",
       "      <th>rating</th>\n",
       "      <th>Number of views</th>\n",
       "    </tr>\n",
       "  </thead>\n",
       "  <tbody>\n",
       "    <tr>\n",
       "      <th>0</th>\n",
       "      <td>They Made Me a Criminal (1939)</td>\n",
       "      <td>5.0</td>\n",
       "      <td>1</td>\n",
       "    </tr>\n",
       "    <tr>\n",
       "      <th>1</th>\n",
       "      <td>Marlene Dietrich: Shadow and Light (1996)</td>\n",
       "      <td>5.0</td>\n",
       "      <td>1</td>\n",
       "    </tr>\n",
       "    <tr>\n",
       "      <th>2</th>\n",
       "      <td>Saint of Fort Washington, The (1993)</td>\n",
       "      <td>5.0</td>\n",
       "      <td>2</td>\n",
       "    </tr>\n",
       "    <tr>\n",
       "      <th>3</th>\n",
       "      <td>Someone Else's America (1995)</td>\n",
       "      <td>5.0</td>\n",
       "      <td>1</td>\n",
       "    </tr>\n",
       "    <tr>\n",
       "      <th>4</th>\n",
       "      <td>Star Kid (1997)</td>\n",
       "      <td>5.0</td>\n",
       "      <td>3</td>\n",
       "    </tr>\n",
       "    <tr>\n",
       "      <th>...</th>\n",
       "      <td>...</td>\n",
       "      <td>...</td>\n",
       "      <td>...</td>\n",
       "    </tr>\n",
       "    <tr>\n",
       "      <th>1659</th>\n",
       "      <td>Eye of Vichy, The (Oeil de Vichy, L') (1993)</td>\n",
       "      <td>1.0</td>\n",
       "      <td>1</td>\n",
       "    </tr>\n",
       "    <tr>\n",
       "      <th>1660</th>\n",
       "      <td>King of New York (1990)</td>\n",
       "      <td>1.0</td>\n",
       "      <td>1</td>\n",
       "    </tr>\n",
       "    <tr>\n",
       "      <th>1661</th>\n",
       "      <td>Touki Bouki (Journey of the Hyena) (1973)</td>\n",
       "      <td>1.0</td>\n",
       "      <td>1</td>\n",
       "    </tr>\n",
       "    <tr>\n",
       "      <th>1662</th>\n",
       "      <td>Bloody Child, The (1996)</td>\n",
       "      <td>1.0</td>\n",
       "      <td>1</td>\n",
       "    </tr>\n",
       "    <tr>\n",
       "      <th>1663</th>\n",
       "      <td>Crude Oasis, The (1995)</td>\n",
       "      <td>1.0</td>\n",
       "      <td>1</td>\n",
       "    </tr>\n",
       "  </tbody>\n",
       "</table>\n",
       "<p>1664 rows × 3 columns</p>\n",
       "</div>"
      ],
      "text/plain": [
       "                                       movie title  rating  Number of views\n",
       "0                   They Made Me a Criminal (1939)     5.0                1\n",
       "1       Marlene Dietrich: Shadow and Light (1996)      5.0                1\n",
       "2             Saint of Fort Washington, The (1993)     5.0                2\n",
       "3                    Someone Else's America (1995)     5.0                1\n",
       "4                                  Star Kid (1997)     5.0                3\n",
       "...                                            ...     ...              ...\n",
       "1659  Eye of Vichy, The (Oeil de Vichy, L') (1993)     1.0                1\n",
       "1660                       King of New York (1990)     1.0                1\n",
       "1661     Touki Bouki (Journey of the Hyena) (1973)     1.0                1\n",
       "1662                      Bloody Child, The (1996)     1.0                1\n",
       "1663                       Crude Oasis, The (1995)     1.0                1\n",
       "\n",
       "[1664 rows x 3 columns]"
      ]
     },
     "execution_count": 21,
     "metadata": {},
     "output_type": "execute_result"
    }
   ],
   "source": [
    "reliable_movies = pd.merge(average_movies_ratings, movies_views, how='inner', on='movie title')\n",
    "reliable_movies"
   ]
  },
  {
   "cell_type": "code",
   "execution_count": 22,
   "metadata": {},
   "outputs": [
    {
     "name": "stdout",
     "output_type": "stream",
     "text": [
      "Film suggestion should suggest to new users films that are not only highly rated but also viewed by many users\n"
     ]
    },
    {
     "data": {
      "text/html": [
       "<div>\n",
       "<style scoped>\n",
       "    .dataframe tbody tr th:only-of-type {\n",
       "        vertical-align: middle;\n",
       "    }\n",
       "\n",
       "    .dataframe tbody tr th {\n",
       "        vertical-align: top;\n",
       "    }\n",
       "\n",
       "    .dataframe thead th {\n",
       "        text-align: right;\n",
       "    }\n",
       "</style>\n",
       "<table border=\"1\" class=\"dataframe\">\n",
       "  <thead>\n",
       "    <tr style=\"text-align: right;\">\n",
       "      <th></th>\n",
       "      <th>movie title</th>\n",
       "      <th>rating</th>\n",
       "      <th>Number of views</th>\n",
       "    </tr>\n",
       "  </thead>\n",
       "  <tbody>\n",
       "    <tr>\n",
       "      <th>23</th>\n",
       "      <td>Star Wars (1977)</td>\n",
       "      <td>4.358491</td>\n",
       "      <td>583</td>\n",
       "    </tr>\n",
       "    <tr>\n",
       "      <th>32</th>\n",
       "      <td>Silence of the Lambs, The (1991)</td>\n",
       "      <td>4.289744</td>\n",
       "      <td>390</td>\n",
       "    </tr>\n",
       "    <tr>\n",
       "      <th>34</th>\n",
       "      <td>Godfather, The (1972)</td>\n",
       "      <td>4.283293</td>\n",
       "      <td>413</td>\n",
       "    </tr>\n",
       "    <tr>\n",
       "      <th>40</th>\n",
       "      <td>Raiders of the Lost Ark (1981)</td>\n",
       "      <td>4.252381</td>\n",
       "      <td>420</td>\n",
       "    </tr>\n",
       "    <tr>\n",
       "      <th>45</th>\n",
       "      <td>Titanic (1997)</td>\n",
       "      <td>4.245714</td>\n",
       "      <td>350</td>\n",
       "    </tr>\n",
       "    <tr>\n",
       "      <th>49</th>\n",
       "      <td>Empire Strikes Back, The (1980)</td>\n",
       "      <td>4.204360</td>\n",
       "      <td>367</td>\n",
       "    </tr>\n",
       "    <tr>\n",
       "      <th>64</th>\n",
       "      <td>Fargo (1996)</td>\n",
       "      <td>4.155512</td>\n",
       "      <td>508</td>\n",
       "    </tr>\n",
       "    <tr>\n",
       "      <th>101</th>\n",
       "      <td>Pulp Fiction (1994)</td>\n",
       "      <td>4.060914</td>\n",
       "      <td>394</td>\n",
       "    </tr>\n",
       "    <tr>\n",
       "      <th>129</th>\n",
       "      <td>Return of the Jedi (1983)</td>\n",
       "      <td>4.007890</td>\n",
       "      <td>507</td>\n",
       "    </tr>\n",
       "    <tr>\n",
       "      <th>236</th>\n",
       "      <td>Toy Story (1995)</td>\n",
       "      <td>3.878319</td>\n",
       "      <td>452</td>\n",
       "    </tr>\n",
       "    <tr>\n",
       "      <th>260</th>\n",
       "      <td>Chasing Amy (1997)</td>\n",
       "      <td>3.839050</td>\n",
       "      <td>379</td>\n",
       "    </tr>\n",
       "    <tr>\n",
       "      <th>264</th>\n",
       "      <td>Back to the Future (1985)</td>\n",
       "      <td>3.834286</td>\n",
       "      <td>350</td>\n",
       "    </tr>\n",
       "    <tr>\n",
       "      <th>292</th>\n",
       "      <td>Contact (1997)</td>\n",
       "      <td>3.803536</td>\n",
       "      <td>509</td>\n",
       "    </tr>\n",
       "    <tr>\n",
       "      <th>298</th>\n",
       "      <td>Twelve Monkeys (1995)</td>\n",
       "      <td>3.798469</td>\n",
       "      <td>392</td>\n",
       "    </tr>\n",
       "    <tr>\n",
       "      <th>361</th>\n",
       "      <td>Jerry Maguire (1996)</td>\n",
       "      <td>3.710938</td>\n",
       "      <td>384</td>\n",
       "    </tr>\n",
       "    <tr>\n",
       "      <th>372</th>\n",
       "      <td>Rock, The (1996)</td>\n",
       "      <td>3.693122</td>\n",
       "      <td>378</td>\n",
       "    </tr>\n",
       "    <tr>\n",
       "      <th>409</th>\n",
       "      <td>Star Trek: First Contact (1996)</td>\n",
       "      <td>3.660274</td>\n",
       "      <td>365</td>\n",
       "    </tr>\n",
       "    <tr>\n",
       "      <th>412</th>\n",
       "      <td>English Patient, The (1996)</td>\n",
       "      <td>3.656965</td>\n",
       "      <td>481</td>\n",
       "    </tr>\n",
       "    <tr>\n",
       "      <th>428</th>\n",
       "      <td>Air Force One (1997)</td>\n",
       "      <td>3.631090</td>\n",
       "      <td>431</td>\n",
       "    </tr>\n",
       "  </tbody>\n",
       "</table>\n",
       "</div>"
      ],
      "text/plain": [
       "                          movie title    rating  Number of views\n",
       "23                   Star Wars (1977)  4.358491              583\n",
       "32   Silence of the Lambs, The (1991)  4.289744              390\n",
       "34              Godfather, The (1972)  4.283293              413\n",
       "40     Raiders of the Lost Ark (1981)  4.252381              420\n",
       "45                     Titanic (1997)  4.245714              350\n",
       "49    Empire Strikes Back, The (1980)  4.204360              367\n",
       "64                       Fargo (1996)  4.155512              508\n",
       "101               Pulp Fiction (1994)  4.060914              394\n",
       "129         Return of the Jedi (1983)  4.007890              507\n",
       "236                  Toy Story (1995)  3.878319              452\n",
       "260                Chasing Amy (1997)  3.839050              379\n",
       "264         Back to the Future (1985)  3.834286              350\n",
       "292                    Contact (1997)  3.803536              509\n",
       "298             Twelve Monkeys (1995)  3.798469              392\n",
       "361              Jerry Maguire (1996)  3.710938              384\n",
       "372                  Rock, The (1996)  3.693122              378\n",
       "409   Star Trek: First Contact (1996)  3.660274              365\n",
       "412       English Patient, The (1996)  3.656965              481\n",
       "428              Air Force One (1997)  3.631090              431"
      ]
     },
     "execution_count": 22,
     "metadata": {},
     "output_type": "execute_result"
    }
   ],
   "source": [
    "highest_reliable_movies = reliable_movies[(reliable_movies['Number of views'] >= 350) & (reliable_movies['rating'] >= 3.5)]\n",
    "print(\"Film suggestion should suggest to new users films that are not only highly rated but also viewed by many users\")\n",
    "highest_reliable_movies"
   ]
  },
  {
   "cell_type": "code",
   "execution_count": 23,
   "metadata": {},
   "outputs": [
    {
     "data": {
      "text/plain": [
       "['unknown',\n",
       " 'Action',\n",
       " 'Adventure',\n",
       " 'Animation',\n",
       " \"Children's\",\n",
       " 'Comedy',\n",
       " 'Crime',\n",
       " 'Documentary',\n",
       " 'Drama',\n",
       " 'Fantasy',\n",
       " 'Film-Noir',\n",
       " 'Horror',\n",
       " 'Musical',\n",
       " 'Mystery',\n",
       " 'Romance',\n",
       " 'Sci-Fi',\n",
       " 'Thriller',\n",
       " 'War',\n",
       " 'Western']"
      ]
     },
     "execution_count": 23,
     "metadata": {},
     "output_type": "execute_result"
    }
   ],
   "source": [
    "themes = col_names[5:]\n",
    "themes"
   ]
  },
  {
   "cell_type": "code",
   "execution_count": 24,
   "metadata": {},
   "outputs": [
    {
     "data": {
      "text/plain": [
       "<AxesSubplot:xlabel='Genre'>"
      ]
     },
     "execution_count": 24,
     "metadata": {},
     "output_type": "execute_result"
    },
    {
     "data": {
      "image/png": "[encoded data removed]",
      "text/plain": [
       "<Figure size 720x360 with 1 Axes>"
      ]
     },
     "metadata": {
      "needs_background": "light"
     },
     "output_type": "display_data"
    }
   ],
   "source": [
    "quantity_per_theme = []\n",
    "for theme in themes:\n",
    "    movies_by_theme = items[items[theme] == 1]\n",
    "    quantity_per_theme.append(len(movies_by_theme))\n",
    "\n",
    "quantity_per_theme\n",
    "\n",
    "df = pd.DataFrame({'Genre': themes, 'Number of movies': quantity_per_theme})\n",
    "df.plot.bar(x='Genre', y='Number of movies', rot=90, figsize=(10, 5))\n",
    "\n",
    "\n"
   ]
  },
  {
   "cell_type": "code",
   "execution_count": 25,
   "metadata": {},
   "outputs": [],
   "source": [
    "def movies_by_theme_visualization(movies_by_theme):\n",
    "    movies_by_theme['rating'].value_counts(sort=False).plot(kind='bar', figsize=(10, 5), use_index=True, rot=0)\n",
    "    plt.title('Rating Frequency')\n",
    "    plt.xlabel('Rating Score')\n",
    "    plt.ylabel('Number of times a rating')\n",
    "    plt.show()"
   ]
  },
  {
   "cell_type": "code",
   "execution_count": 26,
   "metadata": {},
   "outputs": [],
   "source": [
    "def recommendations_by_theme(theme):\n",
    "    if (theme != 'unknown'):\n",
    "        print(\"Suggestions to new users films relating \", theme)\n",
    "    else:\n",
    "        print(\"Suggestions to new users films(no category)\")\n",
    "    \n",
    "    print()\n",
    "\n",
    "    movies_by_theme = items[['movie id', 'movie title', theme]]\n",
    "    movies_by_theme =  movies_by_theme[movies_by_theme[theme] == 1]\n",
    "    merged_movies_by_theme = pd.merge(ratings, movies_by_theme, how='inner', on='movie id')\n",
    "\n",
    "    movies_by_theme_visualization(merged_movies_by_theme)\n",
    "\n",
    "    average_rating_movies_by_theme = merged_movies_by_theme.groupby(['movie title'])['rating'].mean()\n",
    "    average_rating_movies_by_theme = average_rating_movies_by_theme.sort_values(ascending=False)\n",
    "    average_rating_movies_by_theme =  average_rating_movies_by_theme.to_frame()\n",
    "\n",
    "    num_rating_movies_by_theme = merged_movies_by_theme.groupby(['movie title'])['rating'].count()\n",
    "    num_rating_movies_by_theme = num_rating_movies_by_theme.sort_values(ascending=False)\n",
    "    num_rating_movies_by_theme =  num_rating_movies_by_theme.to_frame()\n",
    "    num_rating_movies_by_theme.reset_index(level=0, inplace=True)    \n",
    "    num_rating_movies_by_theme.columns = ['movie title', 'Number of views']\n",
    "\n",
    "    rated_popular_movies = pd.merge(average_rating_movies_by_theme, num_rating_movies_by_theme, how='inner', on='movie title')\n",
    "\n",
    "    limited_view = 350\n",
    "    limited_rating = 3.5\n",
    "\n",
    "    count = 0\n",
    "    check = 0\n",
    "    while (limited_view > 0 and limited_rating > 0):\n",
    "        top_related_popular_movies = rated_popular_movies[(rated_popular_movies['Number of views'] > limited_view) & (rated_popular_movies['rating'] > limited_rating)]\n",
    "\n",
    "        if len(top_related_popular_movies) < 10:\n",
    "            if check == 0:\n",
    "                limited_view -= 50\n",
    "                check = 1\n",
    "            else:\n",
    "                limited_rating -= 0.5\n",
    "                check = 0    \n",
    "        else:\n",
    "            break\n",
    "    \n",
    "    print(f'Views: {limited_view} and rating: {limited_rating}')\n",
    "    if len(top_related_popular_movies) > 0:\n",
    "        print('Film system should suggest to new users films in below list: ')\n",
    "        print(top_related_popular_movies)\n",
    "    else :\n",
    "        print('Film system should not suggest to new users films relating ', theme)\n",
    "\n"
   ]
  },
  {
   "cell_type": "code",
   "execution_count": 27,
   "metadata": {},
   "outputs": [
    {
     "name": "stdout",
     "output_type": "stream",
     "text": [
      "Suggestions to new users films(no category)\n",
      "\n"
     ]
    },
    {
     "data": {
      "image/png": "[encoded data removed]",
      "text/plain": [
       "<Figure size 720x360 with 1 Axes>"
      ]
     },
     "metadata": {
      "needs_background": "light"
     },
     "output_type": "display_data"
    },
    {
     "name": "stdout",
     "output_type": "stream",
     "text": [
      "Views: 0 and rating: 0.5\n",
      "Film system should not suggest to new users films relating  unknown\n",
      "Suggestions to new users films relating  Action\n",
      "\n"
     ]
    },
    {
     "data": {
      "image/png": "[encoded data removed]",
      "text/plain": [
       "<Figure size 720x360 with 1 Axes>"
      ]
     },
     "metadata": {
      "needs_background": "light"
     },
     "output_type": "display_data"
    },
    {
     "name": "stdout",
     "output_type": "stream",
     "text": [
      "Views: 300 and rating: 3.5\n",
      "Film system should suggest to new users films in below list: \n",
      "                                  movie title    rating  Number of views\n",
      "0                            Star Wars (1977)  4.358491              583\n",
      "1                       Godfather, The (1972)  4.283293              413\n",
      "2              Raiders of the Lost Ark (1981)  4.252381              420\n",
      "3                              Titanic (1997)  4.245714              350\n",
      "4             Empire Strikes Back, The (1980)  4.204360              367\n",
      "8                  Princess Bride, The (1987)  4.172840              324\n",
      "11                       Fugitive, The (1993)  4.044643              336\n",
      "13                  Return of the Jedi (1983)  4.007890              507\n",
      "20                     Terminator, The (1984)  3.933555              301\n",
      "22  Indiana Jones and the Last Crusade (1989)  3.930514              331\n",
      "34                        Men in Black (1997)  3.745875              303\n",
      "37                           Rock, The (1996)  3.693122              378\n",
      "40            Star Trek: First Contact (1996)  3.660274              365\n",
      "42                       Air Force One (1997)  3.631090              431\n",
      "Suggestions to new users films relating  Adventure\n",
      "\n"
     ]
    },
    {
     "data": {
      "image/png": "[encoded data removed]",
      "text/plain": [
       "<Figure size 720x360 with 1 Axes>"
      ]
     },
     "metadata": {
      "needs_background": "light"
     },
     "output_type": "display_data"
    },
    {
     "name": "stdout",
     "output_type": "stream",
     "text": [
      "Views: 300 and rating: 3.5\n",
      "Film system should suggest to new users films in below list: \n",
      "                                     movie title    rating  Number of views\n",
      "1                               Star Wars (1977)  4.358491              583\n",
      "2                 Raiders of the Lost Ark (1981)  4.252381              420\n",
      "4                Empire Strikes Back, The (1980)  4.204360              367\n",
      "6                     Princess Bride, The (1987)  4.172840              324\n",
      "11                     Return of the Jedi (1983)  4.007890              507\n",
      "15     Indiana Jones and the Last Crusade (1989)  3.930514              331\n",
      "23                           Men in Black (1997)  3.745875              303\n",
      "25                              Rock, The (1996)  3.693122              378\n",
      "27               Star Trek: First Contact (1996)  3.660274              365\n",
      "28  Willy Wonka and the Chocolate Factory (1971)  3.631902              326\n",
      "Suggestions to new users films relating  Animation\n",
      "\n"
     ]
    },
    {
     "data": {
      "image/png": "[encoded data removed]",
      "text/plain": [
       "<Figure size 720x360 with 1 Axes>"
      ]
     },
     "metadata": {
      "needs_background": "light"
     },
     "output_type": "display_data"
    },
    {
     "name": "stdout",
     "output_type": "stream",
     "text": [
      "Views: 100 and rating: 1.5\n",
      "Film system should suggest to new users films in below list: \n",
      "                               movie title    rating  Number of views\n",
      "0                    Close Shave, A (1995)  4.491071              112\n",
      "1               Wrong Trousers, The (1993)  4.466102              118\n",
      "5                         Toy Story (1995)  3.878319              452\n",
      "6                           Aladdin (1992)  3.812785              219\n",
      "8              Beauty and the Beast (1991)  3.792079              202\n",
      "9                    Lion King, The (1994)  3.781818              220\n",
      "10                         Fantasia (1940)  3.770115              174\n",
      "11  Snow White and the Seven Dwarfs (1937)  3.709302              172\n",
      "12                        Pinocchio (1940)  3.673267              101\n",
      "15                       Cinderella (1950)  3.581395              129\n",
      "17                            Dumbo (1941)  3.495935              123\n",
      "20     Hunchback of Notre Dame, The (1996)  3.377953              127\n",
      "26        James and the Giant Peach (1996)  3.126984              126\n",
      "33  Beavis and Butt-head Do America (1996)  2.788462              156\n",
      "Suggestions to new users films relating  Children's\n",
      "\n"
     ]
    },
    {
     "data": {
      "image/png": "[encoded data removed]",
      "text/plain": [
       "<Figure size 720x360 with 1 Axes>"
      ]
     },
     "metadata": {
      "needs_background": "light"
     },
     "output_type": "display_data"
    },
    {
     "name": "stdout",
     "output_type": "stream",
     "text": [
      "Views: 150 and rating: 2.0\n",
      "Film system should suggest to new users films in below list: \n",
      "                                     movie title    rating  Number of views\n",
      "1                       Wizard of Oz, The (1939)  4.077236              246\n",
      "2                                    Babe (1995)  3.995434              219\n",
      "3                               Toy Story (1995)  3.878319              452\n",
      "4              E.T. the Extra-Terrestrial (1982)  3.833333              300\n",
      "5                                 Aladdin (1992)  3.812785              219\n",
      "7                    Beauty and the Beast (1991)  3.792079              202\n",
      "8                          Lion King, The (1994)  3.781818              220\n",
      "9                                Fantasia (1940)  3.770115              174\n",
      "10                           Mary Poppins (1964)  3.724719              178\n",
      "11        Snow White and the Seven Dwarfs (1937)  3.709302              172\n",
      "15  Willy Wonka and the Chocolate Factory (1971)  3.631902              326\n",
      "16                          Fly Away Home (1996)  3.600000              180\n",
      "81                   George of the Jungle (1997)  2.685185              162\n",
      "Suggestions to new users films relating  Comedy\n",
      "\n"
     ]
    },
    {
     "data": {
      "image/png": "[encoded data removed]",
      "text/plain": [
       "<Figure size 720x360 with 1 Axes>"
      ]
     },
     "metadata": {
      "needs_background": "light"
     },
     "output_type": "display_data"
    },
    {
     "name": "stdout",
     "output_type": "stream",
     "text": [
      "Views: 250 and rating: 3.0\n",
      "Film system should suggest to new users films in below list: \n",
      "                                      movie title    rating  Number of views\n",
      "7                      Princess Bride, The (1987)  4.172840              324\n",
      "14         Monty Python and the Holy Grail (1974)  4.066456              316\n",
      "45                         Full Monty, The (1997)  3.926984              315\n",
      "49                 When Harry Met Sally... (1989)  3.910345              290\n",
      "55                               Toy Story (1995)  3.878319              452\n",
      "58                         Raising Arizona (1987)  3.875000              256\n",
      "61                            Forrest Gump (1994)  3.853583              321\n",
      "63                     Blues Brothers, The (1980)  3.836653              251\n",
      "64                      Back to the Future (1985)  3.834286              350\n",
      "79                           Groundhog Day (1993)  3.764286              280\n",
      "82                            Men in Black (1997)  3.745875              303\n",
      "102            Four Weddings and a Funeral (1994)  3.661355              251\n",
      "106  Willy Wonka and the Chocolate Factory (1971)  3.631902              326\n",
      "143           Truth About Cats & Dogs, The (1996)  3.485294              272\n",
      "155                          Birdcage, The (1996)  3.443686              293\n",
      "218                              Liar Liar (1997)  3.156701              485\n",
      "Suggestions to new users films relating  Crime\n",
      "\n"
     ]
    },
    {
     "data": {
      "image/png": "[encoded data removed]",
      "text/plain": [
       "<Figure size 720x360 with 1 Axes>"
      ]
     },
     "metadata": {
      "needs_background": "light"
     },
     "output_type": "display_data"
    },
    {
     "name": "stdout",
     "output_type": "stream",
     "text": [
      "Views: 200 and rating: 2.5\n",
      "Film system should suggest to new users films in below list: \n",
      "                       movie title    rating  Number of views\n",
      "1       Usual Suspects, The (1995)  4.385768              267\n",
      "3            Godfather, The (1972)  4.283293              413\n",
      "5   Godfather: Part II, The (1974)  4.186603              209\n",
      "6         L.A. Confidential (1997)  4.161616              297\n",
      "7                     Fargo (1996)  4.155512              508\n",
      "10             Pulp Fiction (1994)  4.060914              394\n",
      "11               Sting, The (1973)  4.058091              241\n",
      "19               GoodFellas (1990)  3.951327              226\n",
      "21            Seven (Se7en) (1995)  3.847458              236\n",
      "31                     Heat (1995)  3.569507              223\n",
      "40                   Batman (1989)  3.427861              201\n",
      "Suggestions to new users films relating  Documentary\n",
      "\n"
     ]
    },
    {
     "data": {
      "image/png": "[encoded data removed]",
      "text/plain": [
       "<Figure size 720x360 with 1 Axes>"
      ]
     },
     "metadata": {
      "needs_background": "light"
     },
     "output_type": "display_data"
    },
    {
     "name": "stdout",
     "output_type": "stream",
     "text": [
      "Views: 0 and rating: 0.5\n",
      "Film system should suggest to new users films in below list: \n",
      "                     movie title    rating  Number of views\n",
      "4             Hoop Dreams (1994)  4.094017              117\n",
      "13  Celluloid Closet, The (1995)  3.892857               56\n",
      "16                  Crumb (1994)  3.790123               81\n",
      "20    Looking for Richard (1996)  3.727273               55\n",
      "23          Koyaanisqatsi (1983)  3.490566               53\n",
      "Suggestions to new users films relating  Drama\n",
      "\n"
     ]
    },
    {
     "data": {
      "image/png": "[encoded data removed]",
      "text/plain": [
       "<Figure size 720x360 with 1 Axes>"
      ]
     },
     "metadata": {
      "needs_background": "light"
     },
     "output_type": "display_data"
    },
    {
     "name": "stdout",
     "output_type": "stream",
     "text": [
      "Views: 350 and rating: 3.5\n",
      "Film system should suggest to new users films in below list: \n",
      "                          movie title    rating  Number of views\n",
      "19   Silence of the Lambs, The (1991)  4.289744              390\n",
      "20              Godfather, The (1972)  4.283293              413\n",
      "26    Empire Strikes Back, The (1980)  4.204360              367\n",
      "35                       Fargo (1996)  4.155512              508\n",
      "54                Pulp Fiction (1994)  4.060914              394\n",
      "128                Chasing Amy (1997)  3.839050              379\n",
      "142                    Contact (1997)  3.803536              509\n",
      "146             Twelve Monkeys (1995)  3.798469              392\n",
      "181              Jerry Maguire (1996)  3.710938              384\n",
      "208       English Patient, The (1996)  3.656965              481\n",
      "Suggestions to new users films relating  Fantasy\n",
      "\n"
     ]
    },
    {
     "data": {
      "image/png": "[encoded data removed]",
      "text/plain": [
       "<Figure size 720x360 with 1 Axes>"
      ]
     },
     "metadata": {
      "needs_background": "light"
     },
     "output_type": "display_data"
    },
    {
     "name": "stdout",
     "output_type": "stream",
     "text": [
      "Views: 0 and rating: 0.5\n",
      "Film system should suggest to new users films in below list: \n",
      "                            movie title    rating  Number of views\n",
      "1     E.T. the Extra-Terrestrial (1982)  3.833333              300\n",
      "2             Heavenly Creatures (1994)  3.671429               70\n",
      "3   20,000 Leagues Under the Sea (1954)  3.500000               72\n",
      "4                        Jumanji (1995)  3.312500               96\n",
      "5                      Mask, The (1994)  3.193798              129\n",
      "6                    Dragonheart (1996)  3.082278              158\n",
      "10          Nutty Professor, The (1996)  2.914110              163\n",
      "12                     Space Jam (1996)  2.774194               93\n",
      "13                       Flubber (1997)  2.754717               53\n",
      "Suggestions to new users films relating  Film-Noir\n",
      "\n"
     ]
    },
    {
     "data": {
      "image/png": "[encoded data removed]",
      "text/plain": [
       "<Figure size 720x360 with 1 Axes>"
      ]
     },
     "metadata": {
      "needs_background": "light"
     },
     "output_type": "display_data"
    },
    {
     "name": "stdout",
     "output_type": "stream",
     "text": [
      "Views: 50 and rating: 1.0\n",
      "Film system should suggest to new users films in below list: \n",
      "                         movie title    rating  Number of views\n",
      "0   Manchurian Candidate, The (1962)  4.259542              131\n",
      "2         Maltese Falcon, The (1941)  4.210145              138\n",
      "3                Sunset Blvd. (1950)  4.200000               65\n",
      "4           L.A. Confidential (1997)  4.161616              297\n",
      "5                Blade Runner (1982)  4.138182              275\n",
      "6                   Chinatown (1974)  4.136054              147\n",
      "7                   Notorious (1946)  4.115385               52\n",
      "9              Big Sleep, The (1946)  4.027397               73\n",
      "14                  Cape Fear (1962)  3.523256               86\n",
      "16              Grifters, The (1990)  3.483146               89\n",
      "17      Devil in a Blue Dress (1995)  3.385965               57\n",
      "19                    Hoodlum (1997)  2.931507               73\n",
      "20           Mulholland Falls (1996)  2.878049               82\n",
      "Suggestions to new users films relating  Horror\n",
      "\n"
     ]
    },
    {
     "data": {
      "image/png": "[encoded data removed]",
      "text/plain": [
       "<Figure size 720x360 with 1 Axes>"
      ]
     },
     "metadata": {
      "needs_background": "light"
     },
     "output_type": "display_data"
    },
    {
     "name": "stdout",
     "output_type": "stream",
     "text": [
      "Views: 100 and rating: 1.5\n",
      "Film system should suggest to new users films in below list: \n",
      "                          movie title    rating  Number of views\n",
      "0                       Psycho (1960)  4.100418              239\n",
      "1                        Alien (1979)  4.034364              291\n",
      "2           Young Frankenstein (1974)  3.945000              200\n",
      "4                 Shining, The (1980)  3.825243              206\n",
      "5                   Birds, The (1963)  3.808642              162\n",
      "6                         Jaws (1975)  3.775000              280\n",
      "12       Devil's Advocate, The (1997)  3.515957              188\n",
      "13                      Carrie (1976)  3.504132              121\n",
      "15                      Scream (1996)  3.441423              478\n",
      "16            Army of Darkness (1993)  3.431034              116\n",
      "21            Frighteners, The (1996)  3.234783              115\n",
      "22                    Scream 2 (1997)  3.216981              106\n",
      "24  Interview with the Vampire (1994)  3.182482              137\n",
      "25  Nightmare on Elm Street, A (1984)  3.171171              111\n",
      "26       Bram Stoker's Dracula (1992)  3.158333              120\n",
      "28                  Craft, The (1996)  3.115385              104\n",
      "29         Alien: Resurrection (1997)  3.096774              124\n",
      "Suggestions to new users films relating  Musical\n",
      "\n"
     ]
    },
    {
     "data": {
      "image/png": "[encoded data removed]",
      "text/plain": [
       "<Figure size 720x360 with 1 Axes>"
      ]
     },
     "metadata": {
      "needs_background": "light"
     },
     "output_type": "display_data"
    },
    {
     "name": "stdout",
     "output_type": "stream",
     "text": [
      "Views: 150 and rating: 2.0\n",
      "Film system should suggest to new users films in below list: \n",
      "                               movie title    rating  Number of views\n",
      "0                 Wizard of Oz, The (1939)  4.077236              246\n",
      "4                This Is Spinal Tap (1984)  3.905759              191\n",
      "6               Blues Brothers, The (1980)  3.836653              251\n",
      "8                           Aladdin (1992)  3.812785              219\n",
      "9              Beauty and the Beast (1991)  3.792079              202\n",
      "10                   Lion King, The (1994)  3.781818              220\n",
      "11                         Fantasia (1940)  3.770115              174\n",
      "12              Sound of Music, The (1965)  3.765766              222\n",
      "14                     Mary Poppins (1964)  3.724719              178\n",
      "16  Snow White and the Seven Dwarfs (1937)  3.709302              172\n",
      "35                           Grease (1978)  3.347059              170\n",
      "38         Everyone Says I Love You (1996)  3.273810              168\n",
      "44                            Evita (1996)  2.980695              259\n",
      "Suggestions to new users films relating  Mystery\n",
      "\n"
     ]
    },
    {
     "data": {
      "image/png": "[encoded data removed]",
      "text/plain": [
       "<Figure size 720x360 with 1 Axes>"
      ]
     },
     "metadata": {
      "needs_background": "light"
     },
     "output_type": "display_data"
    },
    {
     "name": "stdout",
     "output_type": "stream",
     "text": [
      "Views: 150 and rating: 2.0\n",
      "Film system should suggest to new users films in below list: \n",
      "                     movie title    rating  Number of views\n",
      "0             Rear Window (1954)  4.387560              209\n",
      "2                 Vertigo (1958)  4.251397              179\n",
      "4                 Amadeus (1984)  4.163043              276\n",
      "5       L.A. Confidential (1997)  4.161616              297\n",
      "10              Lone Star (1996)  4.053476              187\n",
      "14  2001: A Space Odyssey (1968)  3.969112              259\n",
      "23              Game, The (1997)  3.593625              251\n",
      "27  Devil's Advocate, The (1997)  3.515957              188\n",
      "28      Conspiracy Theory (1997)  3.423729              295\n",
      "31               Cop Land (1997)  3.377143              175\n",
      "36    Mission: Impossible (1996)  3.313953              344\n",
      "43         Murder at 1600 (1997)  3.087156              218\n",
      "Suggestions to new users films relating  Romance\n",
      "\n"
     ]
    },
    {
     "data": {
      "image/png": "[encoded data removed]",
      "text/plain": [
       "<Figure size 720x360 with 1 Axes>"
      ]
     },
     "metadata": {
      "needs_background": "light"
     },
     "output_type": "display_data"
    },
    {
     "name": "stdout",
     "output_type": "stream",
     "text": [
      "Views: 300 and rating: 3.0\n",
      "Film system should suggest to new users films in below list: \n",
      "                         movie title    rating  Number of views\n",
      "1                   Star Wars (1977)  4.358491              583\n",
      "2                     Titanic (1997)  4.245714              350\n",
      "3    Empire Strikes Back, The (1980)  4.204360              367\n",
      "7         Princess Bride, The (1987)  4.172840              324\n",
      "20         Return of the Jedi (1983)  4.007890              507\n",
      "44               Forrest Gump (1994)  3.853583              321\n",
      "45                Chasing Amy (1997)  3.839050              379\n",
      "60              Jerry Maguire (1996)  3.710938              384\n",
      "69       English Patient, The (1996)  3.656965              481\n",
      "157                Saint, The (1997)  3.123418              316\n",
      "Suggestions to new users films relating  Sci-Fi\n",
      "\n"
     ]
    },
    {
     "data": {
      "image/png": "[encoded data removed]",
      "text/plain": [
       "<Figure size 720x360 with 1 Axes>"
      ]
     },
     "metadata": {
      "needs_background": "light"
     },
     "output_type": "display_data"
    },
    {
     "name": "stdout",
     "output_type": "stream",
     "text": [
      "Views: 300 and rating: 3.0\n",
      "Film system should suggest to new users films in below list: \n",
      "                        movie title    rating  Number of views\n",
      "1                  Star Wars (1977)  4.358491              583\n",
      "3   Empire Strikes Back, The (1980)  4.204360              367\n",
      "6         Return of the Jedi (1983)  4.007890              507\n",
      "11           Terminator, The (1984)  3.933555              301\n",
      "15        Back to the Future (1985)  3.834286              350\n",
      "19                   Contact (1997)  3.803536              509\n",
      "20            Twelve Monkeys (1995)  3.798469              392\n",
      "23              Men in Black (1997)  3.745875              303\n",
      "25  Star Trek: First Contact (1996)  3.660274              365\n",
      "37    Independence Day (ID4) (1996)  3.438228              429\n",
      "Suggestions to new users films relating  Thriller\n",
      "\n"
     ]
    },
    {
     "data": {
      "image/png": "[encoded data removed]",
      "text/plain": [
       "<Figure size 720x360 with 1 Axes>"
      ]
     },
     "metadata": {
      "needs_background": "light"
     },
     "output_type": "display_data"
    },
    {
     "name": "stdout",
     "output_type": "stream",
     "text": [
      "Views: 250 and rating: 3.0\n",
      "Film system should suggest to new users films in below list: \n",
      "                           movie title    rating  Number of views\n",
      "2           Usual Suspects, The (1995)  4.385768              267\n",
      "5     Silence of the Lambs, The (1991)  4.289744              390\n",
      "11            L.A. Confidential (1997)  4.161616              297\n",
      "12                        Fargo (1996)  4.155512              508\n",
      "20                Fugitive, The (1993)  4.044643              336\n",
      "21                        Alien (1979)  4.034364              291\n",
      "24   Terminator 2: Judgment Day (1991)  4.006780              295\n",
      "34        2001: A Space Odyssey (1968)  3.969112              259\n",
      "36                       Aliens (1986)  3.947183              284\n",
      "37              Terminator, The (1984)  3.933555              301\n",
      "39                    Apollo 13 (1995)  3.931159              276\n",
      "54                    Rock, The (1996)  3.693122              378\n",
      "58                       Ransom (1996)  3.644195              267\n",
      "59                Air Force One (1997)  3.631090              431\n",
      "65                    Game, The (1997)  3.593625              251\n",
      "85                       Scream (1996)  3.441423              478\n",
      "89            Conspiracy Theory (1997)  3.423729              295\n",
      "116                     Twister (1996)  3.215017              293\n",
      "134                  Saint, The (1997)  3.123418              316\n",
      "145                Broken Arrow (1996)  3.031496              254\n",
      "Suggestions to new users films relating  War\n",
      "\n"
     ]
    },
    {
     "data": {
      "image/png": "[encoded data removed]",
      "text/plain": [
       "<Figure size 720x360 with 1 Axes>"
      ]
     },
     "metadata": {
      "needs_background": "light"
     },
     "output_type": "display_data"
    },
    {
     "name": "stdout",
     "output_type": "stream",
     "text": [
      "Views: 200 and rating: 2.5\n",
      "Film system should suggest to new users films in below list: \n",
      "                        movie title    rating  Number of views\n",
      "0           Schindler's List (1993)  4.466443              298\n",
      "1                 Casablanca (1942)  4.456790              243\n",
      "2                  Star Wars (1977)  4.358491              583\n",
      "6   Empire Strikes Back, The (1980)  4.204360              367\n",
      "7                  Boot, Das (1981)  4.203980              201\n",
      "10                Braveheart (1995)  4.151515              297\n",
      "16            Apocalypse Now (1979)  4.045249              221\n",
      "17        Return of the Jedi (1983)  4.007890              507\n",
      "21                    Aliens (1986)  3.947183              284\n",
      "22                   M*A*S*H (1970)  3.912621              206\n",
      "24              Forrest Gump (1994)  3.853583              321\n",
      "32      English Patient, The (1996)  3.656965              481\n",
      "36        Courage Under Fire (1996)  3.610860              221\n",
      "44    Independence Day (ID4) (1996)  3.438228              429\n",
      "51         Starship Troopers (1997)  3.232227              211\n",
      "53          Devil's Own, The (1997)  3.108333              240\n",
      "57             Mars Attacks! (1996)  2.847926              217\n",
      "Suggestions to new users films relating  Western\n",
      "\n"
     ]
    },
    {
     "data": {
      "image/png": "[encoded data removed]",
      "text/plain": [
       "<Figure size 720x360 with 1 Axes>"
      ]
     },
     "metadata": {
      "needs_background": "light"
     },
     "output_type": "display_data"
    },
    {
     "name": "stdout",
     "output_type": "stream",
     "text": [
      "Views: 50 and rating: 1.0\n",
      "Film system should suggest to new users films in below list: \n",
      "                                  movie title    rating  Number of views\n",
      "0                            High Noon (1952)  4.102273               88\n",
      "2   Butch Cassidy and the Sundance Kid (1969)  3.949074              216\n",
      "3               Magnificent Seven, The (1954)  3.942149              121\n",
      "5                           Unforgiven (1992)  3.868132              182\n",
      "6      Good, The Bad and The Ugly, The (1966)  3.861314              137\n",
      "8                   Dances with Wolves (1990)  3.792969              256\n",
      "9                            Tombstone (1993)  3.666667              108\n",
      "10                            Maverick (1994)  3.468750              128\n",
      "11                 Legends of the Fall (1994)  3.456790               81\n",
      "13                          Young Guns (1988)  3.207921              101\n",
      "21                   Last Man Standing (1996)  2.660377               53\n"
     ]
    }
   ],
   "source": [
    "for theme in themes:\n",
    "    recommendations_by_theme(theme)"
   ]
  }
 ],
 "metadata": {
  "interpreter": {
   "hash": "69217dc0177c7ca7c14bbe7814d4055467b0fa150864f2bac149f41ab2b4bc73"
  },
  "kernelspec": {
   "display_name": "Python 3.7.1 64-bit ('base': conda)",
   "language": "python",
   "name": "python3"
  },
  "language_info": {
   "codemirror_mode": {
    "name": "ipython",
    "version": 3
   },
   "file_extension": ".py",
   "mimetype": "text/x-python",
   "name": "python",
   "nbconvert_exporter": "python",
   "pygments_lexer": "ipython3",
   "version": "3.9.7"
  },
  "orig_nbformat": 4
 },
 "nbformat": 4,
 "nbformat_minor": 2
}
