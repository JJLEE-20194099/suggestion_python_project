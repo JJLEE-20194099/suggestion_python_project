{
 "cells": [
  {
   "cell_type": "code",
   "execution_count": 1,
   "metadata": {},
   "outputs": [],
   "source": [
    "from selenium import webdriver\n",
    "from selenium.webdriver.common.keys import Keys\n",
    "from time import sleep\n",
    "import csv\n",
    "from bs4 import BeautifulSoup\n",
    "import pandas as pd"
   ]
  },
  {
   "cell_type": "code",
   "execution_count": 2,
   "metadata": {},
   "outputs": [
    {
     "name": "stderr",
     "output_type": "stream",
     "text": [
      "C:\\Users\\Pc\\AppData\\Local\\Temp/ipykernel_17964/3061250995.py:1: DeprecationWarning: executable_path has been deprecated, please pass in a Service object\n",
      "  driver = webdriver.Chrome(executable_path=\"D:\\Download Default\\chromedriver.exe\")\n"
     ]
    }
   ],
   "source": [
    "driver = webdriver.Chrome(executable_path=\"D:\\Download Default\\chromedriver.exe\")\n",
    "url = \"https://www.imdb.com/?ref_=nv_home\"\n",
    "driver.get(url)"
   ]
  },
  {
   "cell_type": "code",
   "execution_count": 3,
   "metadata": {},
   "outputs": [],
   "source": [
    "cols = ['movie id', 'movie title', 'release date', 'video release date',\n",
    "              'IMDb URL', 'unknown', 'Action', 'Adventure', 'Animation',\n",
    "              'Children\\'s', 'Comedy', 'Crime', 'Documentary', 'Drama', 'Fantasy',\n",
    "              'Film-Noir', 'Horror', 'Musical', 'Mystery', 'Romance', 'Sci-Fi',\n",
    "              'Thriller', 'War', 'Western']\n",
    "movies = pd.read_csv('./data/ml-100k/u.item', sep='|', names=cols, encoding='latin-1')\n",
    "\n",
    "movie_titles = movies['movie title']"
   ]
  },
  {
   "cell_type": "code",
   "execution_count": 4,
   "metadata": {},
   "outputs": [],
   "source": [
    "def format_title(title):\n",
    "    start = title.find(\"(\")\n",
    "    if start == -1:\n",
    "        return title\n",
    "    end = title.find(\")\")\n",
    "    if end == -1:\n",
    "        return title\n",
    "    \n",
    "    check = title[start + 1:end]\n",
    "    if check.isnumeric():\n",
    "        return title[:end + 1]\n",
    "    return title[:start] + title[end + 1:]\n",
    "\n",
    "\n"
   ]
  },
  {
   "cell_type": "code",
   "execution_count": 5,
   "metadata": {},
   "outputs": [],
   "source": [
    "def getMovieDetaiPagelByTitle(title):\n",
    "    search_field = driver.find_element_by_id('suggestion-search')\n",
    "    if (title.find(\")\") != -1):\n",
    "        format = format_title(title)\n",
    "    search_field.send_keys(format)\n",
    "    search_btn = driver.find_element_by_id('suggestion-search-button')\n",
    "    search_btn.click()\n",
    "\n",
    "    \n",
    "\n"
   ]
  },
  {
   "cell_type": "code",
   "execution_count": 6,
   "metadata": {},
   "outputs": [],
   "source": [
    "from selenium.common.exceptions import NoSuchElementException\n",
    "def getElementsBySelector(element, selector):\n",
    "    try:\n",
    "        element.find_elements_by_css_selector(selector)\n",
    "    except NoSuchElementException:\n",
    "        return \"\"\n",
    "    return element.find_elements_by_css_selector(selector)\n",
    "\n",
    "def getElementByXpath(element, Xpath):\n",
    "    try:\n",
    "        element.find_element_by_xpath(Xpath)\n",
    "    except NoSuchElementException:\n",
    "        return \"\"\n",
    "    return element.find_element_by_xpath(Xpath)"
   ]
  },
  {
   "cell_type": "code",
   "execution_count": 7,
   "metadata": {},
   "outputs": [],
   "source": [
    "def getExtraData(title):\n",
    "    movie_url = getElementsBySelector(driver, \".result_text a\")[0].get_attribute(\"href\")\n",
    "    driver.get(movie_url)  \n",
    "\n",
    "    basic_details = getElementByXpath(driver, '//*[@id=\"__next\"]/main/div/section[1]/section/div[3]/section/section/div[1]/div[1]/div[2]/ul')\n",
    "    if basic_details == \"\":\n",
    "        duration = \"\"\n",
    "    else:\n",
    "        li_info = getElementsBySelector(basic_details, 'li')\n",
    "        if li_info == \"\":\n",
    "            duration = \"\"\n",
    "        else: \n",
    "            \n",
    "            if len(li_info) < 3:\n",
    "                duration = \"\"\n",
    "            else:\n",
    "                duration = li_info[2].text\n",
    "\n",
    "    storyline_box = getElementsBySelector(driver, '[data-testid=\"Storyline\"]')\n",
    "    if storyline_box == \"\":\n",
    "        storyline_content = \"\"\n",
    "    else :\n",
    "        print(storyline_box[0])\n",
    "        storyline_content_box = getElementsBySelector(storyline_box[0], 'div.ipc-html-content')\n",
    "        if storyline_content_box == \"\":\n",
    "            storyline_content = \"\"\n",
    "        else :\n",
    "            storyline_content = getElementsBySelector(storyline_content_box[0], 'div')\n",
    "            if storyline_content != \"\":\n",
    "                storyline_content = storyline_content[0].text\n",
    "    \n",
    "    countries_box = getElementsBySelector(driver, '[data-testid=\"title-details-origin\"]')\n",
    "    if countries_box == \"\":\n",
    "        contries = \"\"\n",
    "    else:\n",
    "\n",
    "        countries_url = getElementsBySelector(countries_box[0], 'a')\n",
    "        if countries_url == \"\":\n",
    "            countries = \"\"\n",
    "        else:    \n",
    "            countries = [country.text for country in countries_url]\n",
    "\n",
    "    companies_box = getElementsBySelector(driver, '[data-testid=\"title-details-origin\"]')\n",
    "    if companies_box == \"\":\n",
    "        contries = \"\"\n",
    "    else:\n",
    "\n",
    "        companies_url = getElementsBySelector(companies_box[0], 'a')\n",
    "        if companies_url == \"\":\n",
    "            companies = \"\"\n",
    "        else:    \n",
    "            companies = [company.text for company in companies_url]\n",
    "    \n",
    "\n",
    "    languages_box = getElementsBySelector(driver, '[data-testid=\"title-details-origin\"]')\n",
    "    if languages_box == \"\":\n",
    "        contries = \"\"\n",
    "    else:\n",
    "\n",
    "        languages_url = getElementsBySelector(languages_box[0], 'a')\n",
    "        if languages_url == \"\":\n",
    "            languages = \"\"\n",
    "        else:    \n",
    "            languages = [language.text for language in languages_url]\n",
    "\n",
    "    return {\n",
    "        \"title\": title,\n",
    "        \"duration\": duration,\n",
    "        \"storyline\": storyline_content,\n",
    "        \"countries\": countries,\n",
    "        \"companies\": companies,\n",
    "        \"languages\": languages\n",
    "    }\n",
    "\n",
    "    \n"
   ]
  },
  {
   "cell_type": "code",
   "execution_count": null,
   "metadata": {},
   "outputs": [],
   "source": []
  },
  {
   "cell_type": "code",
   "execution_count": 8,
   "metadata": {},
   "outputs": [
    {
     "name": "stderr",
     "output_type": "stream",
     "text": [
      "C:\\Users\\Pc\\AppData\\Local\\Temp/ipykernel_17964/2851152309.py:2: DeprecationWarning: find_element_by_* commands are deprecated. Please use find_element() instead\n",
      "  search_field = driver.find_element_by_id('suggestion-search')\n",
      "C:\\Users\\Pc\\AppData\\Local\\Temp/ipykernel_17964/2851152309.py:6: DeprecationWarning: find_element_by_* commands are deprecated. Please use find_element() instead\n",
      "  search_btn = driver.find_element_by_id('suggestion-search-button')\n",
      "C:\\Users\\Pc\\AppData\\Local\\Temp/ipykernel_17964/95701961.py:4: DeprecationWarning: find_elements_by_* commands are deprecated. Please use find_elements() instead\n",
      "  element.find_elements_by_css_selector(selector)\n",
      "C:\\Users\\Pc\\AppData\\Local\\Temp/ipykernel_17964/95701961.py:7: DeprecationWarning: find_elements_by_* commands are deprecated. Please use find_elements() instead\n",
      "  return element.find_elements_by_css_selector(selector)\n",
      "C:\\Users\\Pc\\AppData\\Local\\Temp/ipykernel_17964/95701961.py:11: DeprecationWarning: find_element_by_* commands are deprecated. Please use find_element() instead\n",
      "  element.find_element_by_xpath(Xpath)\n",
      "C:\\Users\\Pc\\AppData\\Local\\Temp/ipykernel_17964/95701961.py:14: DeprecationWarning: find_element_by_* commands are deprecated. Please use find_element() instead\n",
      "  return element.find_element_by_xpath(Xpath)\n",
      "C:\\Users\\Pc\\AppData\\Roaming\\Python\\Python39\\site-packages\\selenium\\webdriver\\remote\\webelement.py:501: UserWarning: find_elements_by_* commands are deprecated. Please use find_elements() instead\n",
      "  warnings.warn(\"find_elements_by_* commands are deprecated. Please use find_elements() instead\")\n"
     ]
    },
    {
     "name": "stdout",
     "output_type": "stream",
     "text": [
      "<selenium.webdriver.remote.webelement.WebElement (session=\"1d1749b7fa7d93f18db049ff16354b65\", element=\"3c0dccb9-19a8-44f7-9eb5-94f9397ed8bf\")>\n",
      "<selenium.webdriver.remote.webelement.WebElement (session=\"1d1749b7fa7d93f18db049ff16354b65\", element=\"66425f9c-85c6-4f02-84fc-c34d91f68256\")>\n",
      "<selenium.webdriver.remote.webelement.WebElement (session=\"1d1749b7fa7d93f18db049ff16354b65\", element=\"c9c2d2a7-b08e-41d8-b57e-29a3c180e893\")>\n",
      "<selenium.webdriver.remote.webelement.WebElement (session=\"1d1749b7fa7d93f18db049ff16354b65\", element=\"671b45dc-90ca-4914-8eae-dfe762702f19\")>\n",
      "<selenium.webdriver.remote.webelement.WebElement (session=\"1d1749b7fa7d93f18db049ff16354b65\", element=\"16ac5fb6-cccf-4d89-b7e5-1ec74becba8b\")>\n"
     ]
    }
   ],
   "source": [
    "with open('./data/extra-data/item.csv', 'a') as file_output:\n",
    "    headers = ['movie title', 'duration', 'storyline', 'countries', 'production companies', 'languages']\n",
    "    writer = csv.DictWriter(file_output, delimiter=',', lineterminator='\\n', fieldnames = headers)\n",
    "    \n",
    "    for title in movie_titles[:5]:\n",
    "        getMovieDetaiPagelByTitle(title)\n",
    "        extra_data = getExtraData(title)\n",
    "        writer.writerow({\n",
    "            headers[0]: extra_data[\"title\"],\n",
    "            headers[1]: extra_data[\"duration\"],\n",
    "            headers[2]: extra_data[\"storyline\"],\n",
    "            headers[3]: extra_data[\"countries\"],\n",
    "            headers[4]: extra_data[\"companies\"],\n",
    "            headers[5]: extra_data[\"languages\"],\n",
    "        })\n",
    "        sleep(1)\n",
    "        \n",
    "        \n",
    "        "
   ]
  },
  {
   "cell_type": "code",
   "execution_count": 9,
   "metadata": {},
   "outputs": [
    {
     "data": {
      "text/plain": [
       "['French', 'Twist', '(Gazon', 'maudit)']"
      ]
     },
     "execution_count": 9,
     "metadata": {},
     "output_type": "execute_result"
    }
   ],
   "source": [
    "s = \"French Twist (Gazon maudit)\"\n",
    "s.split(\" \")\n"
   ]
  }
 ],
 "metadata": {
  "interpreter": {
   "hash": "ac59ebe37160ed0dfa835113d9b8498d9f09ceb179beaac4002f036b9467c963"
  },
  "kernelspec": {
   "display_name": "Python 3.9.7 64-bit",
   "language": "python",
   "name": "python3"
  },
  "language_info": {
   "codemirror_mode": {
    "name": "ipython",
    "version": 3
   },
   "file_extension": ".py",
   "mimetype": "text/x-python",
   "name": "python",
   "nbconvert_exporter": "python",
   "pygments_lexer": "ipython3",
   "version": "3.9.7"
  },
  "orig_nbformat": 4
 },
 "nbformat": 4,
 "nbformat_minor": 2
}
